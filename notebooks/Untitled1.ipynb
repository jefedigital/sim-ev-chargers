{
 "cells": [
  {
   "cell_type": "code",
   "execution_count": 77,
   "id": "02578529-380d-46c0-b908-feb3223ba825",
   "metadata": {},
   "outputs": [],
   "source": [
    "import numpy as np"
   ]
  },
  {
   "cell_type": "code",
   "execution_count": 158,
   "id": "2f6d3eb6-830a-4bf5-8b4b-9acf4931b9f2",
   "metadata": {},
   "outputs": [
    {
     "data": {
      "text/plain": [
       "array([  0.,  87., 174., 261., 348.])"
      ]
     },
     "execution_count": 158,
     "metadata": {},
     "output_type": "execute_result"
    }
   ],
   "source": [
    "stations_arr = np.array([0.0, 87.0, 174.0, 261.0, 348.0])\n",
    "stations_arr"
   ]
  },
  {
   "cell_type": "code",
   "execution_count": 165,
   "id": "6cc907f7-6887-4d18-8b68-7a1697e188e0",
   "metadata": {},
   "outputs": [],
   "source": [
    "self_loc = 88\n",
    "drive_distance_max = 20"
   ]
  },
  {
   "cell_type": "code",
   "execution_count": 166,
   "id": "c99845eb-86bf-4b13-a24f-5292d899a69d",
   "metadata": {},
   "outputs": [
    {
     "data": {
      "text/plain": [
       "array([ 108.,   21.,  -66., -153., -240.])"
      ]
     },
     "execution_count": 166,
     "metadata": {},
     "output_type": "execute_result"
    }
   ],
   "source": [
    "station_dist_arr = self_loc + drive_distance_max - stations_arr\n",
    "station_dist_arr"
   ]
  },
  {
   "cell_type": "code",
   "execution_count": 167,
   "id": "5334bc89-8465-42c6-b54a-5ae84bbf2a53",
   "metadata": {},
   "outputs": [
    {
     "data": {
      "text/plain": [
       "array([  inf,   inf,  -66., -153., -240.])"
      ]
     },
     "execution_count": 167,
     "metadata": {},
     "output_type": "execute_result"
    }
   ],
   "source": [
    "station_dist_arr[stations_arr < self_loc] = np.inf # only ahead of current position\n",
    "station_dist_arr"
   ]
  },
  {
   "cell_type": "code",
   "execution_count": 168,
   "id": "67951cb6-9d34-4a95-bf5f-844f2f219c9a",
   "metadata": {},
   "outputs": [
    {
     "data": {
      "text/plain": [
       "array([inf, inf, inf, inf, inf])"
      ]
     },
     "execution_count": 168,
     "metadata": {},
     "output_type": "execute_result"
    }
   ],
   "source": [
    "station_dist_arr[station_dist_arr < 0] = np.inf # only reachable\n",
    "station_dist_arr"
   ]
  },
  {
   "cell_type": "code",
   "execution_count": 169,
   "id": "ac5be533-92b2-4902-a22e-0fe7caac9728",
   "metadata": {},
   "outputs": [
    {
     "data": {
      "text/plain": [
       "0.0"
      ]
     },
     "execution_count": 169,
     "metadata": {},
     "output_type": "execute_result"
    }
   ],
   "source": [
    "stations_arr[np.argmin(station_dist_arr)]"
   ]
  },
  {
   "cell_type": "markdown",
   "id": "16e77473-9612-4cf9-90e2-1c8836fc67ca",
   "metadata": {},
   "source": [
    "Driver: 2 289.34559221200647 [[  0.  87. 174. 261. 348.]] [[289.34559221 202.34559221 115.34559221  28.34559221   0.        ]]\n",
    "Driver: 3 212.41631162507608 [[  0.  87. 174. 261. 348.]] [[212.41631163 125.41631163  38.41631163   0.           0.        ]]"
   ]
  },
  {
   "cell_type": "code",
   "execution_count": 128,
   "id": "fac2163c-4f3e-4ced-8455-5e8772cc0f47",
   "metadata": {},
   "outputs": [
    {
     "name": "stdout",
     "output_type": "stream",
     "text": [
      "[289.34559221 202.34559221 115.34559221  28.34559221   0.        ] (array([0, 1, 2, 3]),)\n"
     ]
    }
   ],
   "source": [
    "print(station_dist_arr, np.nonzero(station_dist_arr))"
   ]
  },
  {
   "cell_type": "code",
   "execution_count": null,
   "id": "5e8a7ca0-d804-4a99-946a-9b9c2882ff06",
   "metadata": {},
   "outputs": [],
   "source": []
  },
  {
   "cell_type": "code",
   "execution_count": null,
   "id": "ad4ca8fd-eeab-4e6a-9547-361e1267a115",
   "metadata": {},
   "outputs": [],
   "source": [
    "# go to smallest that is > 0\n",
    "# but only to the ones ahead of current position."
   ]
  },
  {
   "cell_type": "code",
   "execution_count": 30,
   "id": "33413c32-c70e-424a-a7fe-bed87bf42284",
   "metadata": {},
   "outputs": [
    {
     "data": {
      "text/plain": [
       "2"
      ]
     },
     "execution_count": 30,
     "metadata": {},
     "output_type": "execute_result"
    }
   ],
   "source": [
    "station_dist_arr[2]"
   ]
  },
  {
   "cell_type": "code",
   "execution_count": 33,
   "id": "31615b49-8a96-42f9-b7bc-348407188924",
   "metadata": {},
   "outputs": [
    {
     "data": {
      "text/plain": [
       "array([22, 12,  2,  0,  0])"
      ]
     },
     "execution_count": 33,
     "metadata": {},
     "output_type": "execute_result"
    }
   ],
   "source": [
    "station_dist_arr[station_dist_arr < 0] = 0\n",
    "station_dist_arr"
   ]
  }
 ],
 "metadata": {
  "kernelspec": {
   "display_name": "sim",
   "language": "python",
   "name": "sim"
  },
  "language_info": {
   "codemirror_mode": {
    "name": "ipython",
    "version": 3
   },
   "file_extension": ".py",
   "mimetype": "text/x-python",
   "name": "python",
   "nbconvert_exporter": "python",
   "pygments_lexer": "ipython3",
   "version": "3.12.3"
  }
 },
 "nbformat": 4,
 "nbformat_minor": 5
}
