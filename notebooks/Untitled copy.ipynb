{
 "cells": [
  {
   "cell_type": "code",
   "execution_count": 1,
   "id": "dd507f2e-52e5-4a3d-a071-02635cfda5dc",
   "metadata": {},
   "outputs": [],
   "source": [
    "import pandas as pd"
   ]
  },
  {
   "cell_type": "code",
   "execution_count": 9,
   "id": "78dfdf1e-3bf5-4682-83c1-57aefc11a945",
   "metadata": {},
   "outputs": [],
   "source": [
    "df = pd.read_csv('data/inventory.csv')"
   ]
  },
  {
   "cell_type": "code",
   "execution_count": 10,
   "id": "a794b881-1ca1-40b0-9f48-7289cf36e6fa",
   "metadata": {},
   "outputs": [
    {
     "data": {
      "text/html": [
       "<div>\n",
       "<style scoped>\n",
       "    .dataframe tbody tr th:only-of-type {\n",
       "        vertical-align: middle;\n",
       "    }\n",
       "\n",
       "    .dataframe tbody tr th {\n",
       "        vertical-align: top;\n",
       "    }\n",
       "\n",
       "    .dataframe thead th {\n",
       "        text-align: right;\n",
       "    }\n",
       "</style>\n",
       "<table border=\"1\" class=\"dataframe\">\n",
       "  <thead>\n",
       "    <tr style=\"text-align: right;\">\n",
       "      <th></th>\n",
       "      <th>Model</th>\n",
       "      <th>Range</th>\n",
       "      <th>Capacity</th>\n",
       "      <th>Efficiency</th>\n",
       "      <th>Share</th>\n",
       "      <th>Charge_L2</th>\n",
       "      <th>Charge_DC</th>\n",
       "    </tr>\n",
       "  </thead>\n",
       "  <tbody>\n",
       "    <tr>\n",
       "      <th>0</th>\n",
       "      <td>Tesla Model Y</td>\n",
       "      <td>350.00</td>\n",
       "      <td>57.50</td>\n",
       "      <td>0.1643</td>\n",
       "      <td>0.339</td>\n",
       "      <td>11</td>\n",
       "      <td>140</td>\n",
       "    </tr>\n",
       "    <tr>\n",
       "      <th>1</th>\n",
       "      <td>Tesla Model 3</td>\n",
       "      <td>415.00</td>\n",
       "      <td>57.50</td>\n",
       "      <td>0.1386</td>\n",
       "      <td>0.190</td>\n",
       "      <td>11</td>\n",
       "      <td>100</td>\n",
       "    </tr>\n",
       "    <tr>\n",
       "      <th>2</th>\n",
       "      <td>Generic EV - Large</td>\n",
       "      <td>464.50</td>\n",
       "      <td>85.90</td>\n",
       "      <td>0.1849</td>\n",
       "      <td>0.064</td>\n",
       "      <td>11</td>\n",
       "      <td>120</td>\n",
       "    </tr>\n",
       "    <tr>\n",
       "      <th>3</th>\n",
       "      <td>Generic EV - Medium</td>\n",
       "      <td>398.33</td>\n",
       "      <td>71.69</td>\n",
       "      <td>0.1800</td>\n",
       "      <td>0.064</td>\n",
       "      <td>11</td>\n",
       "      <td>100</td>\n",
       "    </tr>\n",
       "    <tr>\n",
       "      <th>4</th>\n",
       "      <td>Generic EV - Small</td>\n",
       "      <td>330.83</td>\n",
       "      <td>54.17</td>\n",
       "      <td>0.1637</td>\n",
       "      <td>0.064</td>\n",
       "      <td>11</td>\n",
       "      <td>100</td>\n",
       "    </tr>\n",
       "  </tbody>\n",
       "</table>\n",
       "</div>"
      ],
      "text/plain": [
       "                 Model   Range  Capacity  Efficiency  Share  Charge_L2  \\\n",
       "0        Tesla Model Y  350.00     57.50      0.1643  0.339         11   \n",
       "1        Tesla Model 3  415.00     57.50      0.1386  0.190         11   \n",
       "2   Generic EV - Large  464.50     85.90      0.1849  0.064         11   \n",
       "3  Generic EV - Medium  398.33     71.69      0.1800  0.064         11   \n",
       "4   Generic EV - Small  330.83     54.17      0.1637  0.064         11   \n",
       "\n",
       "   Charge_DC  \n",
       "0        140  \n",
       "1        100  \n",
       "2        120  \n",
       "3        100  \n",
       "4        100  "
      ]
     },
     "execution_count": 10,
     "metadata": {},
     "output_type": "execute_result"
    }
   ],
   "source": [
    "df.head()"
   ]
  },
  {
   "cell_type": "code",
   "execution_count": 11,
   "id": "07e3a773-7c0b-436e-8341-e424d87adad6",
   "metadata": {},
   "outputs": [
    {
     "name": "stdout",
     "output_type": "stream",
     "text": [
      "<class 'pandas.core.frame.DataFrame'>\n",
      "RangeIndex: 52 entries, 0 to 51\n",
      "Data columns (total 7 columns):\n",
      " #   Column      Non-Null Count  Dtype  \n",
      "---  ------      --------------  -----  \n",
      " 0   Model       52 non-null     object \n",
      " 1   Range       52 non-null     float64\n",
      " 2   Capacity    52 non-null     float64\n",
      " 3   Efficiency  52 non-null     float64\n",
      " 4   Share       52 non-null     float64\n",
      " 5   Charge_L2   52 non-null     int64  \n",
      " 6   Charge_DC   52 non-null     int64  \n",
      "dtypes: float64(4), int64(2), object(1)\n",
      "memory usage: 3.0+ KB\n"
     ]
    }
   ],
   "source": [
    "df.info()"
   ]
  },
  {
   "cell_type": "code",
   "execution_count": 15,
   "id": "9f2e8b92-4a4d-4b45-aa29-6a1586e7d1ee",
   "metadata": {},
   "outputs": [
    {
     "data": {
      "text/plain": [
       "'0.2'"
      ]
     },
     "execution_count": 15,
     "metadata": {},
     "output_type": "execute_result"
    }
   ],
   "source": [
    "f\"{df['Efficiency'].mean():.1f}\""
   ]
  },
  {
   "cell_type": "code",
   "execution_count": null,
   "id": "b1959f3c-9f1b-48a8-ab15-f0c929b27059",
   "metadata": {},
   "outputs": [],
   "source": []
  },
  {
   "cell_type": "code",
   "execution_count": null,
   "id": "0b11caf3-96da-4ea3-a34a-f133ff293229",
   "metadata": {},
   "outputs": [],
   "source": []
  }
 ],
 "metadata": {
  "kernelspec": {
   "display_name": "sim",
   "language": "python",
   "name": "sim"
  },
  "language_info": {
   "codemirror_mode": {
    "name": "ipython",
    "version": 3
   },
   "file_extension": ".py",
   "mimetype": "text/x-python",
   "name": "python",
   "nbconvert_exporter": "python",
   "pygments_lexer": "ipython3",
   "version": "3.12.3"
  }
 },
 "nbformat": 4,
 "nbformat_minor": 5
}
