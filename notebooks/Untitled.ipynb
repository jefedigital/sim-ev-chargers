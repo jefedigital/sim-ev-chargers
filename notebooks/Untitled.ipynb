{
 "cells": [
  {
   "cell_type": "code",
   "execution_count": 14,
   "id": "52e873ed-bd1d-48a6-bc6e-dffa60aa6f09",
   "metadata": {},
   "outputs": [],
   "source": [
    "import numpy as np\n",
    "import random\n",
    "loc_destination = 350\n",
    "num_stations = 10"
   ]
  },
  {
   "cell_type": "code",
   "execution_count": 9,
   "id": "9c83583a-509f-46fa-9338-37507b5a694c",
   "metadata": {},
   "outputs": [
    {
     "data": {
      "text/plain": [
       "array([  0.,  39.,  78., 117., 156., 194., 233., 272., 311., 350.])"
      ]
     },
     "execution_count": 9,
     "metadata": {},
     "output_type": "execute_result"
    }
   ],
   "source": [
    "np.round(np.linspace(0,loc_destination,num_stations))"
   ]
  },
  {
   "cell_type": "code",
   "execution_count": null,
   "id": "891cfec4-e8a7-4d81-a7cb-8d24cc93cbca",
   "metadata": {},
   "outputs": [],
   "source": []
  },
  {
   "cell_type": "code",
   "execution_count": 18,
   "id": "9ed1e02b-8924-4f22-86da-403b7116adb0",
   "metadata": {},
   "outputs": [
    {
     "data": {
      "text/plain": [
       "0.0"
      ]
     },
     "execution_count": 18,
     "metadata": {},
     "output_type": "execute_result"
    }
   ],
   "source": [
    "np.round(np.linspace(0,loc_destination,num_stations),0)[0]"
   ]
  },
  {
   "cell_type": "code",
   "execution_count": 12,
   "id": "e7874e6c-faf2-467e-8b87-0ec92f778d0e",
   "metadata": {},
   "outputs": [
    {
     "data": {
      "text/plain": [
       "[0.0, 39.0, 78.0, 117.0, 156.0, 194.0, 233.0, 272.0, 311.0, 350.0]"
      ]
     },
     "execution_count": 12,
     "metadata": {},
     "output_type": "execute_result"
    }
   ],
   "source": [
    "list(location)"
   ]
  },
  {
   "cell_type": "code",
   "execution_count": 16,
   "id": "8d5cb7e3-5f81-4e9b-8624-b21dfbfd07c5",
   "metadata": {},
   "outputs": [
    {
     "data": {
      "text/plain": [
       "171"
      ]
     },
     "execution_count": 16,
     "metadata": {},
     "output_type": "execute_result"
    }
   ],
   "source": [
    "random.randint(0, loc_destination)"
   ]
  }
 ],
 "metadata": {
  "kernelspec": {
   "display_name": "ds",
   "language": "python",
   "name": "ds"
  },
  "language_info": {
   "codemirror_mode": {
    "name": "ipython",
    "version": 3
   },
   "file_extension": ".py",
   "mimetype": "text/x-python",
   "name": "python",
   "nbconvert_exporter": "python",
   "pygments_lexer": "ipython3",
   "version": "3.12.2"
  }
 },
 "nbformat": 4,
 "nbformat_minor": 5
}
