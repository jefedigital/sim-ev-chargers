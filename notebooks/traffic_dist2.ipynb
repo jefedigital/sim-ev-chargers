{
 "cells": [
  {
   "cell_type": "code",
   "execution_count": 99,
   "metadata": {},
   "outputs": [],
   "source": [
    "import numpy as np\n",
    "import pandas as pd\n",
    "import random\n",
    "import matplotlib.pyplot as plt\n",
    "from sklearn.mixture import GaussianMixture"
   ]
  },
  {
   "cell_type": "code",
   "execution_count": 100,
   "metadata": {},
   "outputs": [],
   "source": [
    "gmm_df = pd.read_csv('../data/traffic_fake.csv')\n",
    "gmm = GaussianMixture(n_components=2, random_state=42)\n",
    "gmm.fit(gmm_df.values)"
   ]
  },
  {
   "cell_type": "code",
   "execution_count": 106,
   "metadata": {},
   "outputs": [],
   "source": [
    "def generate_trip_start_times(gmm, num_trips):\n",
    "    \n",
    "    # new instance with different random state\n",
    "    gmm_sample = GaussianMixture(n_components=2, random_state=np.random.randint(0, 10000))\n",
    "\n",
    "    # apply the same parameters to the new instance\n",
    "    gmm_sample.means_ = gmm.means_\n",
    "    gmm_sample.covariances_ = gmm.covariances_\n",
    "    gmm_sample.weights_ = gmm.weights_\n",
    "    gmm_sample.precisions_cholesky_ = gmm.precisions_cholesky_\n",
    "\n",
    "    # sample from the new instance\n",
    "    samples, _ = gmm_sample.sample(n_samples=num_trips)\n",
    "    samples = samples % 24\n",
    "    return samples.flatten()"
   ]
  },
  {
   "cell_type": "code",
   "execution_count": 116,
   "metadata": {},
   "outputs": [
    {
     "name": "stdout",
     "output_type": "stream",
     "text": [
      "[[11.73700125  5.25842454]\n",
      " [11.13598764 28.90554473]]\n"
     ]
    },
    {
     "data": {
      "text/plain": [
       "array([ 9.7723921 , 23.64330994,  3.9347048 ,  2.87529104,  2.48369846,\n",
       "       22.98401154])"
      ]
     },
     "execution_count": 116,
     "metadata": {},
     "output_type": "execute_result"
    }
   ],
   "source": [
    "generate_trip_start_times(gmm, 3)"
   ]
  },
  {
   "cell_type": "code",
   "execution_count": null,
   "metadata": {},
   "outputs": [],
   "source": []
  }
 ],
 "metadata": {
  "kernelspec": {
   "display_name": "sim-ev-chargers",
   "language": "python",
   "name": "python3"
  },
  "language_info": {
   "codemirror_mode": {
    "name": "ipython",
    "version": 3
   },
   "file_extension": ".py",
   "mimetype": "text/x-python",
   "name": "python",
   "nbconvert_exporter": "python",
   "pygments_lexer": "ipython3",
   "version": "3.12.4"
  }
 },
 "nbformat": 4,
 "nbformat_minor": 2
}
